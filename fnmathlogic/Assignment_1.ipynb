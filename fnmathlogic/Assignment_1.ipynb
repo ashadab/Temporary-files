{
 "cells": [
  {
   "cell_type": "code",
   "execution_count": 133,
   "metadata": {},
   "outputs": [],
   "source": [
    "import numpy as np\n",
    "import pandas as pd\n",
    "import matplotlib.pyplot as plt\n",
    "import seaborn as sns\n",
    "%matplotlib inline"
   ]
  },
  {
   "cell_type": "code",
   "execution_count": 134,
   "metadata": {},
   "outputs": [],
   "source": [
    "Product = ['A','B','C','D','A','B','C','D']"
   ]
  },
  {
   "cell_type": "code",
   "execution_count": 135,
   "metadata": {},
   "outputs": [],
   "source": [
    "Year = [\n",
    "2015,\n",
    "2015,\n",
    "2015,\n",
    "2015,\n",
    "2016,\n",
    "2016,\n",
    "2016,\n",
    "2016\n",
    "]"
   ]
  },
  {
   "cell_type": "code",
   "execution_count": 136,
   "metadata": {},
   "outputs": [],
   "source": [
    "Volume =[\n",
    "2500,\n",
    "1200,\n",
    "800,\n",
    "400,\n",
    "3000,\n",
    "1400,\n",
    "1200,\n",
    "800,\n",
    "]"
   ]
  },
  {
   "cell_type": "code",
   "execution_count": 137,
   "metadata": {},
   "outputs": [],
   "source": [
    "Price=[\n",
    "1.25,\n",
    "2.5,\n",
    "2.75,\n",
    "3,\n",
    "1.23,\n",
    "2.45,\n",
    "2.7,\n",
    "2.94\n",
    "]"
   ]
  },
  {
   "cell_type": "code",
   "execution_count": 138,
   "metadata": {},
   "outputs": [
    {
     "data": {
      "text/plain": [
       "[3125.0, 3000.0, 2200.0, 1200, 3690.0, 3430.0000000000005, 3240.0, 2352.0]"
      ]
     },
     "execution_count": 138,
     "metadata": {},
     "output_type": "execute_result"
    }
   ],
   "source": [
    "Revenue = [ a*b for (a,b) in zip( Volume , Price ) ]\n",
    "Revenue"
   ]
  },
  {
   "cell_type": "code",
   "execution_count": 139,
   "metadata": {},
   "outputs": [],
   "source": [
    "table = { 'Product': Product, 'Year' : Year, 'Volume': Volume, 'Price' : Price , 'Revenue': Revenue   }"
   ]
  },
  {
   "cell_type": "code",
   "execution_count": 140,
   "metadata": {},
   "outputs": [
    {
     "data": {
      "text/plain": [
       "{'Product': ['A', 'B', 'C', 'D', 'A', 'B', 'C', 'D'],\n",
       " 'Year': [2015, 2015, 2015, 2015, 2016, 2016, 2016, 2016],\n",
       " 'Volume': [2500, 1200, 800, 400, 3000, 1400, 1200, 800],\n",
       " 'Price': [1.25, 2.5, 2.75, 3, 1.23, 2.45, 2.7, 2.94],\n",
       " 'Revenue': [3125.0,\n",
       "  3000.0,\n",
       "  2200.0,\n",
       "  1200,\n",
       "  3690.0,\n",
       "  3430.0000000000005,\n",
       "  3240.0,\n",
       "  2352.0]}"
      ]
     },
     "execution_count": 140,
     "metadata": {},
     "output_type": "execute_result"
    }
   ],
   "source": [
    "table"
   ]
  },
  {
   "cell_type": "code",
   "execution_count": 141,
   "metadata": {},
   "outputs": [
    {
     "data": {
      "text/html": [
       "<div>\n",
       "<style scoped>\n",
       "    .dataframe tbody tr th:only-of-type {\n",
       "        vertical-align: middle;\n",
       "    }\n",
       "\n",
       "    .dataframe tbody tr th {\n",
       "        vertical-align: top;\n",
       "    }\n",
       "\n",
       "    .dataframe thead th {\n",
       "        text-align: right;\n",
       "    }\n",
       "</style>\n",
       "<table border=\"1\" class=\"dataframe\">\n",
       "  <thead>\n",
       "    <tr style=\"text-align: right;\">\n",
       "      <th></th>\n",
       "      <th>Product</th>\n",
       "      <th>Year</th>\n",
       "      <th>Volume</th>\n",
       "      <th>Price</th>\n",
       "      <th>Revenue</th>\n",
       "    </tr>\n",
       "  </thead>\n",
       "  <tbody>\n",
       "    <tr>\n",
       "      <th>0</th>\n",
       "      <td>A</td>\n",
       "      <td>2015</td>\n",
       "      <td>2500</td>\n",
       "      <td>1.25</td>\n",
       "      <td>3125.0</td>\n",
       "    </tr>\n",
       "    <tr>\n",
       "      <th>1</th>\n",
       "      <td>B</td>\n",
       "      <td>2015</td>\n",
       "      <td>1200</td>\n",
       "      <td>2.50</td>\n",
       "      <td>3000.0</td>\n",
       "    </tr>\n",
       "    <tr>\n",
       "      <th>2</th>\n",
       "      <td>C</td>\n",
       "      <td>2015</td>\n",
       "      <td>800</td>\n",
       "      <td>2.75</td>\n",
       "      <td>2200.0</td>\n",
       "    </tr>\n",
       "    <tr>\n",
       "      <th>3</th>\n",
       "      <td>D</td>\n",
       "      <td>2015</td>\n",
       "      <td>400</td>\n",
       "      <td>3.00</td>\n",
       "      <td>1200.0</td>\n",
       "    </tr>\n",
       "    <tr>\n",
       "      <th>4</th>\n",
       "      <td>A</td>\n",
       "      <td>2016</td>\n",
       "      <td>3000</td>\n",
       "      <td>1.23</td>\n",
       "      <td>3690.0</td>\n",
       "    </tr>\n",
       "    <tr>\n",
       "      <th>5</th>\n",
       "      <td>B</td>\n",
       "      <td>2016</td>\n",
       "      <td>1400</td>\n",
       "      <td>2.45</td>\n",
       "      <td>3430.0</td>\n",
       "    </tr>\n",
       "    <tr>\n",
       "      <th>6</th>\n",
       "      <td>C</td>\n",
       "      <td>2016</td>\n",
       "      <td>1200</td>\n",
       "      <td>2.70</td>\n",
       "      <td>3240.0</td>\n",
       "    </tr>\n",
       "    <tr>\n",
       "      <th>7</th>\n",
       "      <td>D</td>\n",
       "      <td>2016</td>\n",
       "      <td>800</td>\n",
       "      <td>2.94</td>\n",
       "      <td>2352.0</td>\n",
       "    </tr>\n",
       "  </tbody>\n",
       "</table>\n",
       "</div>"
      ],
      "text/plain": [
       "  Product  Year  Volume  Price  Revenue\n",
       "0       A  2015    2500   1.25   3125.0\n",
       "1       B  2015    1200   2.50   3000.0\n",
       "2       C  2015     800   2.75   2200.0\n",
       "3       D  2015     400   3.00   1200.0\n",
       "4       A  2016    3000   1.23   3690.0\n",
       "5       B  2016    1400   2.45   3430.0\n",
       "6       C  2016    1200   2.70   3240.0\n",
       "7       D  2016     800   2.94   2352.0"
      ]
     },
     "execution_count": 141,
     "metadata": {},
     "output_type": "execute_result"
    }
   ],
   "source": [
    "df= pd.DataFrame(data=  table  )\n",
    "df"
   ]
  },
  {
   "cell_type": "markdown",
   "metadata": {},
   "source": [
    "### **Q. At overall level what is the Volume, Price, Revenue change from 2015 to 2016.**\n",
    "\n",
    "**Solutions :**"
   ]
  },
  {
   "cell_type": "code",
   "execution_count": 142,
   "metadata": {},
   "outputs": [],
   "source": [
    "Total_all =  df.groupby( by = ['Year'] )"
   ]
  },
  {
   "cell_type": "code",
   "execution_count": 143,
   "metadata": {},
   "outputs": [
    {
     "data": {
      "text/html": [
       "<div>\n",
       "<style scoped>\n",
       "    .dataframe tbody tr th:only-of-type {\n",
       "        vertical-align: middle;\n",
       "    }\n",
       "\n",
       "    .dataframe tbody tr th {\n",
       "        vertical-align: top;\n",
       "    }\n",
       "\n",
       "    .dataframe thead th {\n",
       "        text-align: right;\n",
       "    }\n",
       "</style>\n",
       "<table border=\"1\" class=\"dataframe\">\n",
       "  <thead>\n",
       "    <tr style=\"text-align: right;\">\n",
       "      <th></th>\n",
       "      <th>Volume</th>\n",
       "      <th>Price</th>\n",
       "      <th>Revenue</th>\n",
       "    </tr>\n",
       "    <tr>\n",
       "      <th>Year</th>\n",
       "      <th></th>\n",
       "      <th></th>\n",
       "      <th></th>\n",
       "    </tr>\n",
       "  </thead>\n",
       "  <tbody>\n",
       "    <tr>\n",
       "      <th>2015</th>\n",
       "      <td>4900</td>\n",
       "      <td>9.50</td>\n",
       "      <td>9525.0</td>\n",
       "    </tr>\n",
       "    <tr>\n",
       "      <th>2016</th>\n",
       "      <td>6400</td>\n",
       "      <td>9.32</td>\n",
       "      <td>12712.0</td>\n",
       "    </tr>\n",
       "  </tbody>\n",
       "</table>\n",
       "</div>"
      ],
      "text/plain": [
       "      Volume  Price  Revenue\n",
       "Year                        \n",
       "2015    4900   9.50   9525.0\n",
       "2016    6400   9.32  12712.0"
      ]
     },
     "execution_count": 143,
     "metadata": {},
     "output_type": "execute_result"
    }
   ],
   "source": [
    "Year_by_total = Total_all.sum()\n",
    "Year_by_total"
   ]
  },
  {
   "cell_type": "markdown",
   "metadata": {},
   "source": [
    "#### Volume Change"
   ]
  },
  {
   "cell_type": "code",
   "execution_count": 144,
   "metadata": {},
   "outputs": [
    {
     "name": "stdout",
     "output_type": "stream",
     "text": [
      "[4900, 6400]\n",
      "1500\n"
     ]
    }
   ],
   "source": [
    "Total_volume = list( Year_by_total['Volume'] )\n",
    "print( Total_volume ) \n",
    "\n",
    "Volume_change = Total_volume[1]- Total_volume[0]\n",
    "print ( Volume_change )"
   ]
  },
  {
   "cell_type": "markdown",
   "metadata": {},
   "source": [
    "#### Revenue Change"
   ]
  },
  {
   "cell_type": "code",
   "execution_count": 145,
   "metadata": {},
   "outputs": [
    {
     "name": "stdout",
     "output_type": "stream",
     "text": [
      "[9525.0, 12712.0]\n",
      "3187.0\n"
     ]
    }
   ],
   "source": [
    "Total_revenue = list( Year_by_total['Revenue'] )\n",
    "print( Total_revenue ) \n",
    "\n",
    "Revenue_change = Total_revenue[1]- Total_revenue[0]\n",
    "print ( Revenue_change )"
   ]
  },
  {
   "cell_type": "markdown",
   "metadata": {},
   "source": [
    "#### Price Change\n",
    "\n",
    "We define average price for a year = $ w_1 * p_1 + w_1 * p_1+ ... w_n * p_n$ where n: is an index for number of products and $w_i = \\frac{ {Volume_i} }{ \\text{Total volume} }   $ and $\\sum w_i = 1 $"
   ]
  },
  {
   "cell_type": "code",
   "execution_count": 146,
   "metadata": {},
   "outputs": [
    {
     "data": {
      "text/plain": [
       "[1.9438775510204083, 1.98625]"
      ]
     },
     "execution_count": 146,
     "metadata": {},
     "output_type": "execute_result"
    }
   ],
   "source": [
    "Average_price = [ a/b for a,b in zip( Total_revenue , Total_volume )    ]\n",
    "Average_price"
   ]
  },
  {
   "cell_type": "code",
   "execution_count": 147,
   "metadata": {},
   "outputs": [
    {
     "name": "stdout",
     "output_type": "stream",
     "text": [
      "0.042372448979591804\n"
     ]
    }
   ],
   "source": [
    "Price_change = Average_price[1]- Average_price[0]\n",
    "print ( Price_change )"
   ]
  },
  {
   "cell_type": "markdown",
   "metadata": {},
   "source": [
    "#### Overall Volume change = 1500 units , Price change = 0.04 units , Revenue change = 3187 units"
   ]
  },
  {
   "cell_type": "markdown",
   "metadata": {},
   "source": [
    "### **Q. Can you explain the % change in Revenue of the company from 2011-2012 in terms of different factors?**\n",
    "\n",
    "- Volume\n",
    "\n",
    "- Price\n",
    "\n",
    "- Any other factor that you see from above data"
   ]
  },
  {
   "cell_type": "markdown",
   "metadata": {},
   "source": [
    "**Solution :**\n",
    "\n",
    "In order to find change in revenue, we use the following relation where P: price, Q: volume and R: revenue\n",
    "\n",
    "$ R = P * Q $\n",
    "\n",
    "$ \\triangle R \\approx P * \\triangle Q + \\triangle P * Q $   \n",
    "\n",
    "$ \\frac{\\triangle R}{R}  \\approx \\frac{\\triangle Q}{Q} + \\frac{\\triangle P}{P}    $"
   ]
  },
  {
   "cell_type": "code",
   "execution_count": 148,
   "metadata": {},
   "outputs": [
    {
     "data": {
      "text/plain": [
       "0.3345931758530184"
      ]
     },
     "execution_count": 148,
     "metadata": {},
     "output_type": "execute_result"
    }
   ],
   "source": [
    "z = Revenue_change / Total_revenue[0]\n",
    "z"
   ]
  },
  {
   "cell_type": "code",
   "execution_count": 149,
   "metadata": {},
   "outputs": [
    {
     "data": {
      "text/plain": [
       "0.30612244897959184"
      ]
     },
     "execution_count": 149,
     "metadata": {},
     "output_type": "execute_result"
    }
   ],
   "source": [
    "x = Volume_change / Total_volume[0]\n",
    "x"
   ]
  },
  {
   "cell_type": "code",
   "execution_count": 150,
   "metadata": {},
   "outputs": [
    {
     "data": {
      "text/plain": [
       "0.021797900262467175"
      ]
     },
     "execution_count": 150,
     "metadata": {},
     "output_type": "execute_result"
    }
   ],
   "source": [
    "y= Price_change / Average_price[0]\n",
    "y"
   ]
  },
  {
   "cell_type": "code",
   "execution_count": 151,
   "metadata": {},
   "outputs": [
    {
     "data": {
      "text/plain": [
       "0.6672826610959359"
      ]
     },
     "execution_count": 151,
     "metadata": {},
     "output_type": "execute_result"
    }
   ],
   "source": [
    "deviation = z - (x+y)\n",
    "deviation * 100"
   ]
  },
  {
   "cell_type": "markdown",
   "metadata": {},
   "source": []
  },
  {
   "cell_type": "markdown",
   "metadata": {},
   "source": [
    "$ \\frac{\\triangle R}{R}  \\approx \\frac{\\triangle Q}{Q} + \\frac{\\triangle P}{P}    $\n",
    "\n",
    "The above relationship doesn't hold true for larger changes and so we see **0.66%** deviation.\n",
    "\n",
    "**Assuming that the movement is along the same demand curve, there is no other factor apart from price and quantity affecting the revenue.** A reduction in price will lead to higher quantity sold (as per law of demand). In case of price reduction, whether or not the revenue increases depends on whether the market is operating at the elastic or inelastic part of the market demand curve.\n",
    "\n",
    "The change in revenue from a shift in price can be broken into price effect and quantity effect. The **price effect** refers to the lost revenue from each unit that was previously being sold. The reduction occurs because each product now sells for a lower price. The **quantity effect** refers to the rise in revenue because of additional quantities sold at the new (reduced) price. \n",
    "\n",
    "As illustrated in below figure, we need to draw rectangles to find quanity effect and price effect for finding change in revenue when market demand shifts from point A to B. "
   ]
  },
  {
   "attachments": {
    "image.png": {
     "image/png": "[encoded data removed]"
    }
   },
   "cell_type": "markdown",
   "metadata": {},
   "source": [
    "![image.png](attachment:image.png)"
   ]
  },
  {
   "cell_type": "markdown",
   "metadata": {},
   "source": [
    "Source: https://en.wikipedia.org/wiki/Total_revenue_test"
   ]
  }
 ],
 "metadata": {
  "kernelspec": {
   "display_name": "Python 3",
   "language": "python",
   "name": "python3"
  },
  "language_info": {
   "codemirror_mode": {
    "name": "ipython",
    "version": 3
   },
   "file_extension": ".py",
   "mimetype": "text/x-python",
   "name": "python",
   "nbconvert_exporter": "python",
   "pygments_lexer": "ipython3",
   "version": "3.7.1"
  }
 },
 "nbformat": 4,
 "nbformat_minor": 2
}
